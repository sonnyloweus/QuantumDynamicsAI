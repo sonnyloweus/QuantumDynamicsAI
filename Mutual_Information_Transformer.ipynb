{
 "nbformat": 4,
 "nbformat_minor": 0,
 "metadata": {
  "colab": {
   "provenance": [],
   "collapsed_sections": [
    "q4ns8pdIBhQb",
    "7lOv4H9iBVGJ"
   ],
   "authorship_tag": "ABX9TyO2+HhMgcSkau+jZyzzWrPw",
   "include_colab_link": true
  },
  "kernelspec": {
   "name": "python3",
   "language": "python",
   "display_name": "Python 3 (ipykernel)"
  },
  "language_info": {
   "name": "python"
  }
 },
 "cells": [
  {
   "cell_type": "markdown",
   "source": [
    "# File Setup"
   ],
   "metadata": {
    "id": "q4ns8pdIBhQb"
   }
  },
  {
   "cell_type": "code",
   "source": [
    "import os\n",
    "print(os.listdir())\n",
    "directory_path = ''\n",
    "\n",
    "#from google.colab import drive\n",
    "#import sys\n",
    "#drive.mount('/content/drive')\n",
    "#directory_path = '/content/drive/MyDrive/Quantum/'\n",
    "#sys.path.append('/content/drive/MyDrive/Quantum')\n",
    "# print(os.listdir(directory_path))"
   ],
   "metadata": {
    "colab": {
     "base_uri": "https://localhost:8080/"
    },
    "id": "j10YqJU051l8",
    "outputId": "72930d25-1de5-4e9d-c619-e29b6099f1a9",
    "ExecuteTime": {
     "end_time": "2024-07-18T20:06:00.067969Z",
     "start_time": "2024-07-18T20:06:00.063769Z"
    }
   },
   "execution_count": 1,
   "outputs": [
    {
     "name": "stdout",
     "output_type": "stream",
     "text": [
      "['dense_small.param', '.DS_Store', 'quantum_experiments', 'DiscreteVariationalParameterizationsDeepV2.py', 'Mutual_Information_Transformer.ipynb', '__pycache__', 'DiscreteVariationalParameterizationsDeepV3.py', 'README.md', 'Mutual_Information_Maximizing_Model.ipynb', 'temp.txt', '.ipynb_checkpoints', '.git', 'QuantumSimulatorDataset.py', 'GibbsSampling.py', '.idea']\n"
     ]
    }
   ]
  },
  {
   "cell_type": "code",
   "source": [
    "!pip install torch\n",
    "!pip install torchmetrics\n",
    "!pip install qiskit-aer\n",
    "!pip install qiskit\n",
    "!pip install pylatexenc\n",
    "!pip install tqdm\n",
    "!pip install scikit-learn"
   ],
   "metadata": {
    "colab": {
     "base_uri": "https://localhost:8080/"
    },
    "collapsed": true,
    "id": "d19Pk1nd54_V",
    "outputId": "fb62d185-755b-4169-968c-217c529563b7",
    "ExecuteTime": {
     "end_time": "2024-07-18T19:45:28.664798Z",
     "start_time": "2024-07-18T19:45:16.293399Z"
    }
   },
   "execution_count": 221,
   "outputs": [
    {
     "name": "stdout",
     "output_type": "stream",
     "text": [
      "Requirement already satisfied: torch in /opt/anaconda3/lib/python3.11/site-packages (2.3.1)\r\n",
      "Requirement already satisfied: filelock in /opt/anaconda3/lib/python3.11/site-packages (from torch) (3.13.1)\r\n",
      "Requirement already satisfied: typing-extensions>=4.8.0 in /opt/anaconda3/lib/python3.11/site-packages (from torch) (4.9.0)\r\n",
      "Requirement already satisfied: sympy in /opt/anaconda3/lib/python3.11/site-packages (from torch) (1.12)\r\n",
      "Requirement already satisfied: networkx in /opt/anaconda3/lib/python3.11/site-packages (from torch) (3.1)\r\n",
      "Requirement already satisfied: jinja2 in /opt/anaconda3/lib/python3.11/site-packages (from torch) (3.1.3)\r\n",
      "Requirement already satisfied: fsspec in /opt/anaconda3/lib/python3.11/site-packages (from torch) (2023.10.0)\r\n",
      "Requirement already satisfied: MarkupSafe>=2.0 in /opt/anaconda3/lib/python3.11/site-packages (from jinja2->torch) (2.1.3)\r\n",
      "Requirement already satisfied: mpmath>=0.19 in /opt/anaconda3/lib/python3.11/site-packages (from sympy->torch) (1.3.0)\r\n",
      "Collecting torchmetrics\r\n",
      "  Downloading torchmetrics-1.4.0.post0-py3-none-any.whl.metadata (19 kB)\r\n",
      "Requirement already satisfied: numpy>1.20.0 in /opt/anaconda3/lib/python3.11/site-packages (from torchmetrics) (1.26.4)\r\n",
      "Requirement already satisfied: packaging>17.1 in /opt/anaconda3/lib/python3.11/site-packages (from torchmetrics) (23.1)\r\n",
      "Requirement already satisfied: torch>=1.10.0 in /opt/anaconda3/lib/python3.11/site-packages (from torchmetrics) (2.3.1)\r\n",
      "Collecting lightning-utilities>=0.8.0 (from torchmetrics)\r\n",
      "  Downloading lightning_utilities-0.11.5-py3-none-any.whl.metadata (4.7 kB)\r\n",
      "Requirement already satisfied: setuptools in /opt/anaconda3/lib/python3.11/site-packages (from lightning-utilities>=0.8.0->torchmetrics) (68.2.2)\r\n",
      "Requirement already satisfied: typing-extensions in /opt/anaconda3/lib/python3.11/site-packages (from lightning-utilities>=0.8.0->torchmetrics) (4.9.0)\r\n",
      "Requirement already satisfied: filelock in /opt/anaconda3/lib/python3.11/site-packages (from torch>=1.10.0->torchmetrics) (3.13.1)\r\n",
      "Requirement already satisfied: sympy in /opt/anaconda3/lib/python3.11/site-packages (from torch>=1.10.0->torchmetrics) (1.12)\r\n",
      "Requirement already satisfied: networkx in /opt/anaconda3/lib/python3.11/site-packages (from torch>=1.10.0->torchmetrics) (3.1)\r\n",
      "Requirement already satisfied: jinja2 in /opt/anaconda3/lib/python3.11/site-packages (from torch>=1.10.0->torchmetrics) (3.1.3)\r\n",
      "Requirement already satisfied: fsspec in /opt/anaconda3/lib/python3.11/site-packages (from torch>=1.10.0->torchmetrics) (2023.10.0)\r\n",
      "Requirement already satisfied: MarkupSafe>=2.0 in /opt/anaconda3/lib/python3.11/site-packages (from jinja2->torch>=1.10.0->torchmetrics) (2.1.3)\r\n",
      "Requirement already satisfied: mpmath>=0.19 in /opt/anaconda3/lib/python3.11/site-packages (from sympy->torch>=1.10.0->torchmetrics) (1.3.0)\r\n",
      "Downloading torchmetrics-1.4.0.post0-py3-none-any.whl (868 kB)\r\n",
      "\u001B[2K   \u001B[90m━━━━━━━━━━━━━━━━━━━━━━━━━━━━━━━━━━━━━━━━\u001B[0m \u001B[32m868.8/868.8 kB\u001B[0m \u001B[31m2.1 MB/s\u001B[0m eta \u001B[36m0:00:00\u001B[0m00:01\u001B[0m00:01\u001B[0mm\r\n",
      "\u001B[?25hDownloading lightning_utilities-0.11.5-py3-none-any.whl (26 kB)\r\n",
      "Installing collected packages: lightning-utilities, torchmetrics\r\n",
      "Successfully installed lightning-utilities-0.11.5 torchmetrics-1.4.0.post0\r\n",
      "Requirement already satisfied: qiskit-aer in /opt/anaconda3/lib/python3.11/site-packages (0.14.2)\r\n",
      "Requirement already satisfied: qiskit>=0.45.2 in /opt/anaconda3/lib/python3.11/site-packages (from qiskit-aer) (1.1.0)\r\n",
      "Requirement already satisfied: numpy>=1.16.3 in /opt/anaconda3/lib/python3.11/site-packages (from qiskit-aer) (1.26.4)\r\n",
      "Requirement already satisfied: scipy>=1.0 in /opt/anaconda3/lib/python3.11/site-packages (from qiskit-aer) (1.11.4)\r\n",
      "Requirement already satisfied: psutil>=5 in /opt/anaconda3/lib/python3.11/site-packages (from qiskit-aer) (5.9.0)\r\n",
      "Requirement already satisfied: rustworkx>=0.14.0 in /opt/anaconda3/lib/python3.11/site-packages (from qiskit>=0.45.2->qiskit-aer) (0.14.2)\r\n",
      "Requirement already satisfied: sympy>=1.3 in /opt/anaconda3/lib/python3.11/site-packages (from qiskit>=0.45.2->qiskit-aer) (1.12)\r\n",
      "Requirement already satisfied: dill>=0.3 in /opt/anaconda3/lib/python3.11/site-packages (from qiskit>=0.45.2->qiskit-aer) (0.3.7)\r\n",
      "Requirement already satisfied: python-dateutil>=2.8.0 in /opt/anaconda3/lib/python3.11/site-packages (from qiskit>=0.45.2->qiskit-aer) (2.8.2)\r\n",
      "Requirement already satisfied: stevedore>=3.0.0 in /opt/anaconda3/lib/python3.11/site-packages (from qiskit>=0.45.2->qiskit-aer) (5.2.0)\r\n",
      "Requirement already satisfied: typing-extensions in /opt/anaconda3/lib/python3.11/site-packages (from qiskit>=0.45.2->qiskit-aer) (4.9.0)\r\n",
      "Requirement already satisfied: symengine>=0.11 in /opt/anaconda3/lib/python3.11/site-packages (from qiskit>=0.45.2->qiskit-aer) (0.11.0)\r\n",
      "Requirement already satisfied: six>=1.5 in /opt/anaconda3/lib/python3.11/site-packages (from python-dateutil>=2.8.0->qiskit>=0.45.2->qiskit-aer) (1.16.0)\r\n",
      "Requirement already satisfied: pbr!=2.1.0,>=2.0.0 in /opt/anaconda3/lib/python3.11/site-packages (from stevedore>=3.0.0->qiskit>=0.45.2->qiskit-aer) (6.0.0)\r\n",
      "Requirement already satisfied: mpmath>=0.19 in /opt/anaconda3/lib/python3.11/site-packages (from sympy>=1.3->qiskit>=0.45.2->qiskit-aer) (1.3.0)\r\n",
      "Requirement already satisfied: qiskit in /opt/anaconda3/lib/python3.11/site-packages (1.1.0)\r\n",
      "Requirement already satisfied: rustworkx>=0.14.0 in /opt/anaconda3/lib/python3.11/site-packages (from qiskit) (0.14.2)\r\n",
      "Requirement already satisfied: numpy<3,>=1.17 in /opt/anaconda3/lib/python3.11/site-packages (from qiskit) (1.26.4)\r\n",
      "Requirement already satisfied: scipy>=1.5 in /opt/anaconda3/lib/python3.11/site-packages (from qiskit) (1.11.4)\r\n",
      "Requirement already satisfied: sympy>=1.3 in /opt/anaconda3/lib/python3.11/site-packages (from qiskit) (1.12)\r\n",
      "Requirement already satisfied: dill>=0.3 in /opt/anaconda3/lib/python3.11/site-packages (from qiskit) (0.3.7)\r\n",
      "Requirement already satisfied: python-dateutil>=2.8.0 in /opt/anaconda3/lib/python3.11/site-packages (from qiskit) (2.8.2)\r\n",
      "Requirement already satisfied: stevedore>=3.0.0 in /opt/anaconda3/lib/python3.11/site-packages (from qiskit) (5.2.0)\r\n",
      "Requirement already satisfied: typing-extensions in /opt/anaconda3/lib/python3.11/site-packages (from qiskit) (4.9.0)\r\n",
      "Requirement already satisfied: symengine>=0.11 in /opt/anaconda3/lib/python3.11/site-packages (from qiskit) (0.11.0)\r\n",
      "Requirement already satisfied: six>=1.5 in /opt/anaconda3/lib/python3.11/site-packages (from python-dateutil>=2.8.0->qiskit) (1.16.0)\r\n",
      "Requirement already satisfied: pbr!=2.1.0,>=2.0.0 in /opt/anaconda3/lib/python3.11/site-packages (from stevedore>=3.0.0->qiskit) (6.0.0)\r\n",
      "Requirement already satisfied: mpmath>=0.19 in /opt/anaconda3/lib/python3.11/site-packages (from sympy>=1.3->qiskit) (1.3.0)\r\n",
      "Requirement already satisfied: pylatexenc in /opt/anaconda3/lib/python3.11/site-packages (2.10)\r\n",
      "Requirement already satisfied: tqdm in /opt/anaconda3/lib/python3.11/site-packages (4.65.0)\r\n",
      "Requirement already satisfied: scikit-learn in /opt/anaconda3/lib/python3.11/site-packages (1.2.2)\r\n",
      "Requirement already satisfied: numpy>=1.17.3 in /opt/anaconda3/lib/python3.11/site-packages (from scikit-learn) (1.26.4)\r\n",
      "Requirement already satisfied: scipy>=1.3.2 in /opt/anaconda3/lib/python3.11/site-packages (from scikit-learn) (1.11.4)\r\n",
      "Requirement already satisfied: joblib>=1.1.1 in /opt/anaconda3/lib/python3.11/site-packages (from scikit-learn) (1.2.0)\r\n",
      "Requirement already satisfied: threadpoolctl>=2.0.0 in /opt/anaconda3/lib/python3.11/site-packages (from scikit-learn) (2.2.0)\r\n"
     ]
    }
   ]
  },
  {
   "cell_type": "code",
   "source": [
    "import torch\n",
    "import pandas as pd\n",
    "import numpy as np\n",
    "import torch.nn as nn\n",
    "import ast\n",
    "import torch.optim as optim\n",
    "import torch.nn.functional as F\n",
    "from torchmetrics.clustering import MutualInfoScore\n",
    "from sklearn.metrics import mutual_info_score\n",
    "from torch.utils.data import TensorDataset, DataLoader, random_split\n",
    "import matplotlib.pyplot as plt\n",
    "from QuantumSimulatorDataset import QuantumSimulationDatasetFast, generate_circuit_params\n",
    "from sklearn.model_selection import train_test_split"
   ],
   "metadata": {
    "id": "0il2PJTIXtg6",
    "ExecuteTime": {
     "end_time": "2024-07-19T18:45:47.936982Z",
     "start_time": "2024-07-19T18:45:47.930533Z"
    }
   },
   "execution_count": 361,
   "outputs": []
  },
  {
   "cell_type": "markdown",
   "source": [
    "# MI and Entropy"
   ],
   "metadata": {
    "collapsed": false
   }
  },
  {
   "cell_type": "code",
   "execution_count": 362,
   "outputs": [],
   "source": [
    "def entropy(X):\n",
    "    # Flatten the tensor to 1D\n",
    "    X_flat = X.view(-1)\n",
    "    \n",
    "    # Count the occurrences of each unique value\n",
    "    unique_vals, counts = X_flat.unique(return_counts=True)\n",
    "    probabilities = counts.float() / counts.sum()\n",
    "    entropy = -torch.sum(probabilities * torch.log(probabilities))\n",
    "        \n",
    "    return entropy.item()\n",
    "\n",
    "def mutual_info_loss(X, Y):\n",
    "    # Flatten the tensor to 1D\n",
    "    X_flat = X.view(-1)\n",
    "    Y_flat = Y.view(-1)\n",
    "    \n",
    "    return -mutual_info_score(X_flat, Y_flat)\n",
    "\n",
    "class MutualInformationLoss(nn.Module):\n",
    "    def forward(self, input, target):\n",
    "        X_flat = input.view(-1)\n",
    "        Y_flat = target.view(-1)\n",
    "        \n",
    "        # Compute mutual information\n",
    "        mi = mutual_info_score(X_flat, Y_flat)\n",
    "    \n",
    "        # Convert mutual information to a tensor and return the negative as loss\n",
    "        mi_tensor = torch.tensor(mi, dtype=torch.float32, requires_grad=True).to(input.device)\n",
    "        return -mi_tensor\n",
    "    \n",
    "def calc_binary_accuracy(predictions, targets):\n",
    "    correct = (predictions == targets).float().sum()\n",
    "    accuracy = correct / targets.numel()\n",
    "    return accuracy.item()\n",
    "    "
   ],
   "metadata": {
    "collapsed": false,
    "ExecuteTime": {
     "end_time": "2024-07-19T18:45:48.996823Z",
     "start_time": "2024-07-19T18:45:48.978159Z"
    }
   }
  },
  {
   "cell_type": "markdown",
   "source": [
    "# Model Definition"
   ],
   "metadata": {
    "id": "j87DiZJLfiXR"
   }
  },
  {
   "cell_type": "code",
   "source": [
    "class QuantumTransformer_V2(nn.Module):\n",
    "    def __init__(\n",
    "            self,\n",
    "            num_qbits,\n",
    "            embedding_size,\n",
    "            num_heads,\n",
    "            num_encoder_layers,\n",
    "            num_decoder_layers,\n",
    "            forward_expansion,\n",
    "            dropout,\n",
    "            device,\n",
    "            num_ones\n",
    "    ):\n",
    "        super(QuantumTransformer_V2, self).__init__()\n",
    "        self.src_emb = nn.Embedding(2, embedding_size)\n",
    "        self.src_position_emb = nn.Embedding(num_qbits, embedding_size)\n",
    "        self.tgt_emb = nn.Embedding(2, embedding_size)\n",
    "        self.tgt_position_emb = nn.Embedding(num_qbits, embedding_size)\n",
    "        self.device = device\n",
    "        self.num_ones = num_ones\n",
    "        self.transformer = nn.Transformer(\n",
    "            embedding_size,\n",
    "            num_heads,\n",
    "            num_encoder_layers,\n",
    "            num_decoder_layers,\n",
    "            forward_expansion,\n",
    "            dropout\n",
    "        )\n",
    "        self.fc_out = nn.Linear(embedding_size, 1)\n",
    "        self.dropout = nn.Dropout(dropout)\n",
    "        self.sigmoid = nn.Sigmoid()\n",
    "        \n",
    "    def create_mask(self, size):\n",
    "        mask = torch.tril(torch.ones(size, size)).to(self.device)\n",
    "        return mask\n",
    "    \n",
    "    def forward(self, src, tgt):\n",
    "        batch_size, input_dim = src.shape\n",
    "        batch_size, output_dim = tgt.shape\n",
    "        \n",
    "        src_positions = torch.arange(0, input_dim).unsqueeze(0).expand(batch_size, input_dim).to(self.device)\n",
    "        tgt_positions = torch.arange(0, output_dim).unsqueeze(0).expand(batch_size, output_dim).to(self.device)\n",
    "        \n",
    "        embed_src = self.dropout(self.src_emb(src) + self.src_position_emb(src_positions))\n",
    "        embed_tgt = self.dropout(self.tgt_emb(tgt) + self.tgt_position_emb(tgt_positions))\n",
    "        \n",
    "        src_mask = self.create_mask(input_dim)\n",
    "        tgt_mask = self.create_mask(output_dim)\n",
    "        \n",
    "        # Pass both src and tgt embeddings through the transformer\n",
    "        # Changing forward function to Seq2Seq\n",
    "        out = self.transformer(\n",
    "            embed_src.permute(1, 0, 2),  # (S, N, E)\n",
    "            embed_tgt.permute(1, 0, 2),  # (T, N, E)\n",
    "            src_key_padding_mask=None,   \n",
    "            tgt_key_padding_mask=None,   \n",
    "            memory_key_padding_mask=None, \n",
    "            src_mask=src_mask,\n",
    "            tgt_mask=tgt_mask\n",
    "        )\n",
    "        \n",
    "        out = self.fc_out(out.permute(1, 0, 2))\n",
    "        out = self.sigmoid(out) # (N, S, 1)\n",
    "        return out.squeeze(-1) # (N, S)\n",
    "    \n",
    "    # Issue: predicting S-1 length sequence may not have num_ones amount of ones\n",
    "    def conservation_ones_process(self, probabilities):\n",
    "        sorted_indices = torch.argsort(probabilities, dim=1, descending=True)\n",
    "        threshold_output = torch.zeros_like(probabilities)\n",
    "    \n",
    "        for j in range(probabilities.size(0)):\n",
    "            threshold_output[j, sorted_indices[j, : self.num_ones]] = 1\n",
    "        \n",
    "        return threshold_output\n",
    "    \n",
    "    def predict(self, src):\n",
    "        self.eval()\n",
    "        with torch.no_grad():\n",
    "            batch_size, dim = src.shape\n",
    "            \n",
    "            # Encode the source sequence\n",
    "            src_positions = torch.arange(0, dim).unsqueeze(0).expand(batch_size, dim).to(self.device)\n",
    "            embed_src = self.dropout(self.src_emb(src) + self.src_position_emb(src_positions))\n",
    "            memory = self.transformer.encoder(embed_src.permute(1, 0, 2))  # (src_seq_len, batch_size, embedding_size)\n",
    "            \n",
    "            # Initialize the target sequence with a start token (zeros)\n",
    "            tgt = torch.zeros((batch_size, 1), dtype=torch.long).to(self.device)\n",
    "            all_probs = []  # List to store probabilities at each step\n",
    "            \n",
    "            for _ in range(dim):\n",
    "                tgt_positions = torch.arange(0, tgt.size(1)).unsqueeze(0).expand(batch_size, tgt.size(1)).to(self.device)\n",
    "                embed_tgt = self.dropout(self.tgt_emb(tgt) + self.tgt_position_emb(tgt_positions))\n",
    "                \n",
    "                src_mask = self.create_mask(dim)\n",
    "                tgt_mask = self.create_mask(tgt.size(1))\n",
    "                memory_mask = self.create_mask(dim)\n",
    "                \n",
    "                # Generate predictions\n",
    "                out = self.transformer(\n",
    "                    embed_src.permute(1, 0, 2),  # (S, N, E)\n",
    "                    embed_tgt.permute(1, 0, 2),  # (T, N, E)\n",
    "                    src_key_padding_mask=None,\n",
    "                    tgt_key_padding_mask=None,\n",
    "                    memory_key_padding_mask=None,\n",
    "                    src_mask=src_mask,\n",
    "                    tgt_mask=tgt_mask\n",
    "                )\n",
    "                \n",
    "                out = self.fc_out(out.permute(1, 0, 2))  # (N, T, 1)\n",
    "                out = self.sigmoid(out)  # (N, T, 1)\n",
    "                \n",
    "                all_probs.append(out[:, -1, :])  # Collect the probabilities for the last position\n",
    "                \n",
    "                next_token = (out[:, -1, :] >= 0.5).float()  # Binarize the prediction\n",
    "                tgt = torch.cat((tgt, next_token.long()), dim=1)\n",
    "            \n",
    "            all_probs = torch.stack(all_probs, dim=1).squeeze(-1)  # Shape: (batch_size, max_length)\n",
    "        \n",
    "            return self.conservation_ones_process(all_probs)\n",
    "    "
   ],
   "metadata": {
    "id": "QkPRHQTkflC-",
    "ExecuteTime": {
     "end_time": "2024-07-19T19:22:31.159915Z",
     "start_time": "2024-07-19T19:22:31.143471Z"
    }
   },
   "execution_count": 400,
   "outputs": []
  },
  {
   "cell_type": "markdown",
   "source": [
    "# Model Initialization and Training"
   ],
   "metadata": {
    "id": "UKRswzQ1BmyZ"
   }
  },
  {
   "cell_type": "code",
   "source": [
    "#Version 1\n",
    "device = torch.device(\"cuda\" if torch.cuda.is_available() else \"cpu\")\n",
    "load_model = False\n",
    "save_model = True\n",
    "\n",
    "#Hyperparameters\n",
    "num_iterations = 500\n",
    "learning_rate = 1e-4\n",
    "batch_size = 40\n",
    "binary_vocab_size = 2\n",
    "embedding_size = 512\n",
    "num_heads = 8\n",
    "num_encoder_layers = 6\n",
    "num_decoder_layers = 6\n",
    "dropout = 0.1\n",
    "qbits = 12\n",
    "forward_expansion = 4\n",
    "inverse_density = 3\n",
    "num_qbits = 12\n",
    "num_ones = int(num_qbits/inverse_density)\n",
    "num_final_per_initial = 4\n",
    "\n",
    "model = QuantumTransformer_V2(qbits, embedding_size, num_heads, num_encoder_layers, num_decoder_layers, forward_expansion, dropout, device, num_ones).to(device)\n",
    "optimizer = optim.Adam(model.parameters(), lr=learning_rate)\n",
    "criterion = nn.BCELoss()\n",
    "\n",
    "params = generate_circuit_params(0,num_qbits)\n",
    "#params = generate_circuit_params(file_name = directory_path + 'dense_small.param')\n",
    "dataset = QuantumSimulationDatasetFast(params, batch_size, num_final_per_initial, device, inverse_density=inverse_density)\n",
    "print('Device:', device)"
   ],
   "metadata": {
    "colab": {
     "base_uri": "https://localhost:8080/"
    },
    "id": "oJHfp3CDA-0N",
    "outputId": "1335a2d1-b855-436a-b96c-32f012c5a772",
    "ExecuteTime": {
     "end_time": "2024-07-19T19:22:35.031559Z",
     "start_time": "2024-07-19T19:22:34.832561Z"
    }
   },
   "execution_count": 401,
   "outputs": [
    {
     "name": "stdout",
     "output_type": "stream",
     "text": [
      "Device: cpu\n"
     ]
    },
    {
     "name": "stderr",
     "output_type": "stream",
     "text": [
      "/opt/anaconda3/lib/python3.11/site-packages/torch/nn/modules/transformer.py:306: UserWarning: enable_nested_tensor is True, but self.use_nested_tensor is False because encoder_layer.self_attn.batch_first was not True(use batch_first for better inference performance)\n",
      "  warnings.warn(f\"enable_nested_tensor is True, but self.use_nested_tensor is False because {why_not_sparsity_fast_path}\")\n"
     ]
    }
   ]
  },
  {
   "cell_type": "code",
   "execution_count": 404,
   "outputs": [
    {
     "name": "stdout",
     "output_type": "stream",
     "text": [
      "Training\n",
      "| Iteration 000  > BCELoss(Y,ȳ): 0.00066  Train Acc: 1.00000  I(Y,ȳ): 0.63651 Test Acc: 0.54167  I(X,ȳ): 0.00049  I(X,Y): 0.63651\n",
      "| Iteration 010  > BCELoss(Y,ȳ): 0.00036  Train Acc: 1.00000  I(Y,ȳ): 0.63651 Test Acc: 0.59375  I(X,ȳ): 0.00365  I(X,Y): 0.63651\n",
      "| Iteration 020  > BCELoss(Y,ȳ): 0.00025  Train Acc: 1.00000  I(Y,ȳ): 0.63651 Test Acc: 0.54167  I(X,ȳ): 0.00049  I(X,Y): 0.63651\n",
      "| Iteration 030  > BCELoss(Y,ȳ): 0.00019  Train Acc: 1.00000  I(Y,ȳ): 0.63651 Test Acc: 0.58333  I(X,ȳ): 0.00194  I(X,Y): 0.63651\n",
      "| Iteration 040  > BCELoss(Y,ȳ): 0.00017  Train Acc: 1.00000  I(Y,ȳ): 0.63651 Test Acc: 0.58333  I(X,ȳ): 0.00194  I(X,Y): 0.63651\n",
      "| Iteration 050  > BCELoss(Y,ȳ): 0.00014  Train Acc: 1.00000  I(Y,ȳ): 0.63651 Test Acc: 0.48438  I(X,ȳ): 0.01331  I(X,Y): 0.63651\n",
      "| Iteration 060  > BCELoss(Y,ȳ): 0.00013  Train Acc: 1.00000  I(Y,ȳ): 0.63651 Test Acc: 0.48438  I(X,ȳ): 0.01331  I(X,Y): 0.63651\n",
      "| Iteration 070  > BCELoss(Y,ȳ): 0.00012  Train Acc: 1.00000  I(Y,ȳ): 0.63651 Test Acc: 0.61979  I(X,ȳ): 0.01027  I(X,Y): 0.63651\n",
      "| Iteration 080  > BCELoss(Y,ȳ): 0.00011  Train Acc: 1.00000  I(Y,ȳ): 0.63651 Test Acc: 0.62500  I(X,ȳ): 0.01199  I(X,Y): 0.63651\n",
      "| Iteration 090  > BCELoss(Y,ȳ): 0.00011  Train Acc: 1.00000  I(Y,ȳ): 0.63651 Test Acc: 0.47396  I(X,ȳ): 0.01763  I(X,Y): 0.63651\n",
      "| Iteration 100  > BCELoss(Y,ȳ): 0.00010  Train Acc: 1.00000  I(Y,ȳ): 0.63651 Test Acc: 0.54167  I(X,ȳ): 0.00049  I(X,Y): 0.63651\n",
      "| Iteration 110  > BCELoss(Y,ȳ): 0.00010  Train Acc: 1.00000  I(Y,ȳ): 0.63651 Test Acc: 0.47917  I(X,ȳ): 0.01539  I(X,Y): 0.63651\n",
      "| Iteration 120  > BCELoss(Y,ȳ): 0.00009  Train Acc: 1.00000  I(Y,ȳ): 0.63651 Test Acc: 0.54167  I(X,ȳ): 0.00049  I(X,Y): 0.63651\n",
      "| Iteration 130  > BCELoss(Y,ȳ): 0.00008  Train Acc: 1.00000  I(Y,ȳ): 0.63651 Test Acc: 0.50000  I(X,ȳ): 0.00803  I(X,Y): 0.63651\n",
      "| Iteration 140  > BCELoss(Y,ȳ): 0.00008  Train Acc: 1.00000  I(Y,ȳ): 0.63651 Test Acc: 0.50521  I(X,ȳ): 0.00657  I(X,Y): 0.63651\n",
      "| Iteration 150  > BCELoss(Y,ȳ): 0.00008  Train Acc: 1.00000  I(Y,ȳ): 0.63651 Test Acc: 0.58333  I(X,ȳ): 0.00194  I(X,Y): 0.63651\n",
      "| Iteration 160  > BCELoss(Y,ȳ): 0.00007  Train Acc: 1.00000  I(Y,ȳ): 0.63651 Test Acc: 0.60417  I(X,ȳ): 0.00590  I(X,Y): 0.63651\n",
      "| Iteration 170  > BCELoss(Y,ȳ): 0.00007  Train Acc: 1.00000  I(Y,ȳ): 0.63651 Test Acc: 0.51042  I(X,ȳ): 0.00527  I(X,Y): 0.63651\n",
      "| Iteration 180  > BCELoss(Y,ȳ): 0.00007  Train Acc: 1.00000  I(Y,ȳ): 0.63651 Test Acc: 0.63021  I(X,ȳ): 0.01384  I(X,Y): 0.63651\n",
      "| Iteration 190  > BCELoss(Y,ȳ): 0.00006  Train Acc: 1.00000  I(Y,ȳ): 0.63651 Test Acc: 0.54688  I(X,ȳ): 0.00019  I(X,Y): 0.63651\n",
      "| Iteration 200  > BCELoss(Y,ȳ): 0.00006  Train Acc: 1.00000  I(Y,ȳ): 0.63651 Test Acc: 0.53125  I(X,ȳ): 0.00151  I(X,Y): 0.63651\n",
      "| Iteration 210  > BCELoss(Y,ȳ): 0.00006  Train Acc: 1.00000  I(Y,ȳ): 0.63651 Test Acc: 0.54167  I(X,ȳ): 0.00049  I(X,Y): 0.63651\n",
      "| Iteration 220  > BCELoss(Y,ȳ): 0.00006  Train Acc: 1.00000  I(Y,ȳ): 0.63651 Test Acc: 0.51042  I(X,ȳ): 0.00527  I(X,Y): 0.63651\n",
      "| Iteration 230  > BCELoss(Y,ȳ): 0.00006  Train Acc: 1.00000  I(Y,ȳ): 0.63651 Test Acc: 0.54167  I(X,ȳ): 0.00049  I(X,Y): 0.63651\n",
      "| Iteration 240  > BCELoss(Y,ȳ): 0.00005  Train Acc: 1.00000  I(Y,ȳ): 0.63651 Test Acc: 0.61458  I(X,ȳ): 0.00868  I(X,Y): 0.63651\n",
      "| Iteration 250  > BCELoss(Y,ȳ): 0.00005  Train Acc: 1.00000  I(Y,ȳ): 0.63651 Test Acc: 0.49479  I(X,ȳ): 0.00963  I(X,Y): 0.63651\n",
      "| Iteration 260  > BCELoss(Y,ȳ): 0.00005  Train Acc: 1.00000  I(Y,ȳ): 0.63651 Test Acc: 0.47396  I(X,ȳ): 0.01763  I(X,Y): 0.63651\n",
      "| Iteration 270  > BCELoss(Y,ȳ): 0.00005  Train Acc: 1.00000  I(Y,ȳ): 0.63651 Test Acc: 0.59375  I(X,ȳ): 0.00365  I(X,Y): 0.63651\n",
      "| Iteration 280  > BCELoss(Y,ȳ): 0.00005  Train Acc: 1.00000  I(Y,ȳ): 0.63651 Test Acc: 0.55208  I(X,ȳ): 0.00003  I(X,Y): 0.63651\n",
      "| Iteration 290  > BCELoss(Y,ȳ): 0.00005  Train Acc: 1.00000  I(Y,ȳ): 0.63651 Test Acc: 0.58854  I(X,ȳ): 0.00273  I(X,Y): 0.63651\n",
      "| Iteration 300  > BCELoss(Y,ȳ): 0.00005  Train Acc: 1.00000  I(Y,ȳ): 0.63651 Test Acc: 0.55729  I(X,ȳ): 0.00001  I(X,Y): 0.63651\n",
      "| Iteration 310  > BCELoss(Y,ȳ): 0.00005  Train Acc: 1.00000  I(Y,ȳ): 0.63651 Test Acc: 0.60938  I(X,ȳ): 0.00722  I(X,Y): 0.63651\n",
      "| Iteration 320  > BCELoss(Y,ȳ): 0.00004  Train Acc: 1.00000  I(Y,ȳ): 0.63651 Test Acc: 0.55208  I(X,ȳ): 0.00003  I(X,Y): 0.63651\n",
      "| Iteration 330  > BCELoss(Y,ȳ): 0.00004  Train Acc: 1.00000  I(Y,ȳ): 0.63651 Test Acc: 0.59375  I(X,ȳ): 0.00365  I(X,Y): 0.63651\n",
      "| Iteration 340  > BCELoss(Y,ȳ): 0.00004  Train Acc: 1.00000  I(Y,ȳ): 0.63651 Test Acc: 0.59375  I(X,ȳ): 0.00365  I(X,Y): 0.63651\n",
      "| Iteration 350  > BCELoss(Y,ȳ): 0.00004  Train Acc: 1.00000  I(Y,ȳ): 0.63651 Test Acc: 0.55208  I(X,ȳ): 0.00003  I(X,Y): 0.63651\n",
      "| Iteration 360  > BCELoss(Y,ȳ): 0.00004  Train Acc: 1.00000  I(Y,ȳ): 0.63651 Test Acc: 0.56250  I(X,ȳ): 0.00012  I(X,Y): 0.63651\n",
      "| Iteration 370  > BCELoss(Y,ȳ): 0.00004  Train Acc: 1.00000  I(Y,ȳ): 0.63651 Test Acc: 0.52083  I(X,ȳ): 0.00310  I(X,Y): 0.63651\n",
      "| Iteration 380  > BCELoss(Y,ȳ): 0.00004  Train Acc: 1.00000  I(Y,ȳ): 0.63651 Test Acc: 0.50000  I(X,ȳ): 0.00803  I(X,Y): 0.63651\n",
      "| Iteration 390  > BCELoss(Y,ȳ): 0.00004  Train Acc: 1.00000  I(Y,ȳ): 0.63651 Test Acc: 0.59896  I(X,ȳ): 0.00471  I(X,Y): 0.63651\n",
      "| Iteration 400  > BCELoss(Y,ȳ): 0.00004  Train Acc: 1.00000  I(Y,ȳ): 0.63651 Test Acc: 0.59375  I(X,ȳ): 0.00365  I(X,Y): 0.63651\n",
      "| Iteration 410  > BCELoss(Y,ȳ): 0.00004  Train Acc: 1.00000  I(Y,ȳ): 0.63651 Test Acc: 0.53646  I(X,ȳ): 0.00093  I(X,Y): 0.63651\n",
      "| Iteration 420  > BCELoss(Y,ȳ): 0.00004  Train Acc: 1.00000  I(Y,ȳ): 0.63651 Test Acc: 0.50000  I(X,ȳ): 0.00803  I(X,Y): 0.63651\n",
      "| Iteration 430  > BCELoss(Y,ȳ): 0.00004  Train Acc: 1.00000  I(Y,ȳ): 0.63651 Test Acc: 0.56250  I(X,ȳ): 0.00012  I(X,Y): 0.63651\n",
      "| Iteration 440  > BCELoss(Y,ȳ): 0.00004  Train Acc: 1.00000  I(Y,ȳ): 0.63651 Test Acc: 0.56771  I(X,ȳ): 0.00037  I(X,Y): 0.63651\n",
      "| Iteration 450  > BCELoss(Y,ȳ): 0.00003  Train Acc: 1.00000  I(Y,ȳ): 0.63651 Test Acc: 0.61979  I(X,ȳ): 0.01027  I(X,Y): 0.63651\n",
      "| Iteration 460  > BCELoss(Y,ȳ): 0.00003  Train Acc: 1.00000  I(Y,ȳ): 0.63651 Test Acc: 0.61979  I(X,ȳ): 0.01027  I(X,Y): 0.63651\n",
      "| Iteration 470  > BCELoss(Y,ȳ): 0.00003  Train Acc: 1.00000  I(Y,ȳ): 0.63651 Test Acc: 0.54688  I(X,ȳ): 0.00019  I(X,Y): 0.63651\n",
      "| Iteration 480  > BCELoss(Y,ȳ): 0.00003  Train Acc: 1.00000  I(Y,ȳ): 0.63651 Test Acc: 0.56771  I(X,ȳ): 0.00037  I(X,Y): 0.63651\n",
      "| Iteration 490  > BCELoss(Y,ȳ): 0.00003  Train Acc: 1.00000  I(Y,ȳ): 0.63651 Test Acc: 0.61458  I(X,ȳ): 0.00868  I(X,Y): 0.63651\n",
      "| Iteration 500  > BCELoss(Y,ȳ): 0.00003  Train Acc: 1.00000  I(Y,ȳ): 0.63651 Test Acc: 0.57812  I(X,ȳ): 0.00128  I(X,Y): 0.63651\n",
      "Training Terminated\n"
     ]
    }
   ],
   "source": [
    "train_BCELoss_array = []\n",
    "train_BAcc_array = []\n",
    "train_MI_array = []\n",
    "test_MI_array = []\n",
    "test_BAcc_array = []\n",
    "upperBound = 0\n",
    "\n",
    "print('Training')\n",
    "for idx, (initial_state, final_state) in enumerate(dataset):\n",
    "    model.train()\n",
    "    train_indices, test_indices = train_test_split(torch.arange(batch_size), test_size=0.2)\n",
    "    initial_state_test = initial_state[test_indices].to(device).long()\n",
    "    final_state_test = final_state[test_indices].to(device).long()\n",
    "    \n",
    "    initial_state = initial_state[train_indices].to(device).long()\n",
    "    final_state = final_state[train_indices].to(device).long()\n",
    "    \n",
    "    optimizer.zero_grad()\n",
    "\n",
    "    # Forward and backward pass\n",
    "    out = model(initial_state, final_state)    \n",
    "    loss = criterion(out, final_state.float())    \n",
    "    loss.backward()\n",
    "    optimizer.step()\n",
    "            \n",
    "    # Training Metrics\n",
    "    train_predictions = model.conservation_ones_process(out)\n",
    "    train_mutual_info = mutual_info_score(final_state.cpu().reshape(-1), train_predictions.cpu().reshape(-1))\n",
    "    initial_entropy = entropy(initial_state)\n",
    "    train_BAccuracy = calc_binary_accuracy(train_predictions, final_state)\n",
    "    \n",
    "    # Testing Metrics\n",
    "    test_predictions = model.predict(initial_state)\n",
    "    test_mutual_info = mutual_info_score(initial_state.cpu().reshape(-1), test_predictions.cpu().reshape(-1))\n",
    "    test_BAccuracy = calc_binary_accuracy(test_predictions, final_state)\n",
    "\n",
    "    # Tracking\n",
    "    train_BCELoss_array.append(loss.item())\n",
    "    train_BAcc_array.append(train_BAccuracy)\n",
    "    train_MI_array.append(train_mutual_info)\n",
    "    test_BAcc_array.append(test_BAccuracy)\n",
    "    test_MI_array.append(test_mutual_info)\n",
    "    \n",
    "    if idx == 0:\n",
    "        upperBound = mutual_info_score(initial_state.cpu().reshape(-1), final_state.cpu().reshape(-1))\n",
    "    if idx % 10 == 0:\n",
    "        print('| Iteration', f\"{idx:03}\", ' > BCELoss(Y,ȳ):', f\"{loss:,.5f}\",\n",
    "              ' Train Acc:', f\"{train_BAccuracy:,.5f}\",\n",
    "              ' I(Y,ȳ):', f\"{train_mutual_info:,.5f}\",\n",
    "              'Test Acc:', f\"{test_BAccuracy:,.5f}\",\n",
    "              ' I(X,ȳ):', f\"{test_mutual_info:,.5f}\",\n",
    "              ' I(X,Y):', f\"{upperBound:,.5f}\")\n",
    "    if idx > num_iterations:\n",
    "        print('Training Terminated')\n",
    "        break"
   ],
   "metadata": {
    "collapsed": false,
    "ExecuteTime": {
     "end_time": "2024-07-19T19:33:53.139816Z",
     "start_time": "2024-07-19T19:25:00.765304Z"
    }
   }
  },
  {
   "cell_type": "code",
   "source": [
    "# Plotting Training and Validation\n",
    "train_BCELoss_array = np.array(train_BCELoss_array)\n",
    "train_BAcc_array = np.array(train_BAcc_array)\n",
    "train_MI_array = np.array(train_MI_array)\n",
    "test_MI_array = np.array(test_MI_array)\n",
    "test_BAcc_array = np.array(test_BAcc_array)\n",
    "\n",
    "window_size = 20\n",
    "smoothed_train_BCELoss = np.convolve(train_BCELoss_array, np.ones(window_size)/window_size, mode='valid')\n",
    "smoothed_rain_BAcc = np.convolve(train_BAcc_array, np.ones(window_size)/window_size, mode='valid')\n",
    "smoothed_train_MI = np.convolve(train_MI_array, np.ones(window_size)/window_size, mode='valid')\n",
    "smoothed_test_MI = np.convolve(test_MI_array, np.ones(window_size)/window_size, mode='valid')\n",
    "smoothed_test_BAcc = np.convolve(test_BAcc_array, np.ones(window_size)/window_size, mode='valid')\n",
    "\n",
    "epochs = np.arange(1, len(smoothed_test_BAcc) + 1)\n",
    "\n",
    "plt.style.use('default')\n",
    "plt.figure(figsize=(14, 8))\n",
    "\n",
    "plt.plot(epochs, smoothed_train_BCELoss, color='blue', linestyle='-', linewidth=3, label='Train BCELoss')\n",
    "plt.plot(epochs, smoothed_rain_BAcc, color='green', linestyle='-', linewidth=3, label='Train Accuracy')\n",
    "plt.plot(epochs, smoothed_train_MI, color='red', linestyle='-', linewidth=3, label='Train MI')\n",
    "plt.plot(epochs, smoothed_test_MI, color='purple', linestyle='-', linewidth=3, label='Test MI')\n",
    "plt.plot(epochs, smoothed_test_BAcc, color='orange', linestyle='-', linewidth=3, label='Test Accuracy')\n",
    "plt.axhline(y=upperBound, color='gray', linestyle=':', linewidth=2, label=f'H(X) = {upperBound:,.5f}')\n",
    "\n",
    "plt.title('Training and Testing Metrics Over Epochs', fontsize=14)\n",
    "plt.xlabel('Epoch', fontsize=14)\n",
    "plt.ylabel('Metric Value', fontsize=14)\n",
    "plt.yticks(np.arange(0, 1.1, 0.1))\n",
    "\n",
    "plt.legend(loc='best', fontsize=10)\n",
    "plt.show()"
   ],
   "metadata": {
    "id": "twCAozYjS4J9",
    "ExecuteTime": {
     "end_time": "2024-07-19T19:33:53.238757Z",
     "start_time": "2024-07-19T19:33:53.144221Z"
    }
   },
   "execution_count": 405,
   "outputs": [
    {
     "data": {
      "text/plain": "<Figure size 1400x800 with 1 Axes>",
      "image/png": "[encoded data removed]"
     },
     "metadata": {},
     "output_type": "display_data"
    }
   ]
  },
  {
   "cell_type": "code",
   "execution_count": null,
   "outputs": [],
   "source": [],
   "metadata": {
    "collapsed": false
   }
  }
 ]
}
