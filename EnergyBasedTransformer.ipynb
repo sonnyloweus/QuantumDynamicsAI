{
  "nbformat": 4,
  "nbformat_minor": 0,
  "metadata": {
    "colab": {
      "provenance": [],
      "authorship_tag": "ABX9TyNIRJUx1Ox5D25iH0NE+jcU",
      "include_colab_link": true
    },
    "kernelspec": {
      "name": "python3",
      "display_name": "Python 3"
    },
    "language_info": {
      "name": "python"
    }
  },
  "cells": [
    {
      "cell_type": "markdown",
      "metadata": {
        "id": "view-in-github",
        "colab_type": "text"
      },
      "source": [
        "<a href=\"https://colab.research.google.com/github/sonnyloweus/QuantumDynamicsAI/blob/main/EnergyBasedTransformer.ipynb\" target=\"_parent\"><img src=\"https://colab.research.google.com/assets/colab-badge.svg\" alt=\"Open In Colab\"/></a>"
      ]
    },
    {
      "cell_type": "code",
      "execution_count": 1,
      "metadata": {
        "colab": {
          "base_uri": "https://localhost:8080/"
        },
        "id": "B70wgiwMLH8R",
        "outputId": "d1edae72-b2fe-4217-d04d-155b7ece5d3a"
      },
      "outputs": [
        {
          "output_type": "stream",
          "name": "stdout",
          "text": [
            "Drive already mounted at /content/drive; to attempt to forcibly remount, call drive.mount(\"/content/drive\", force_remount=True).\n",
            "['Qiskit Labs', 'Symmetric_Exclusion_Process _Simulator.ipynb', 'Project Presentation Short.gslides', 'dense_small.param', 'quantum_simulation_data.pkl', 'Quantum_Brickworks_Circuit_Simulator.ipynb', 'DiscreteVariationalParameterizations.py', 'Screenshots', '__pycache__', 'BoltzmannEncoderDecoder.ipynb', 'QuantumSimulatorDataset.py', 'GibbsSampling.py', 'DiscreteVariationalParameterizationsDeepV2.py', 'EnergyBasedTransformer.ipynb']\n"
          ]
        }
      ],
      "source": [
        "from google.colab import drive\n",
        "drive.mount('/content/drive')\n",
        "import os\n",
        "import sys\n",
        "directory_path = '/content/drive/MyDrive/Quantum/'\n",
        "sys.path.append('/content/drive/MyDrive/Quantum')\n",
        "\n",
        "print(os.listdir(directory_path))"
      ]
    },
    {
      "cell_type": "code",
      "source": [
        "!pip install qiskit-aer\n",
        "!pip install qiskit\n",
        "!pip install pylatexenc"
      ],
      "metadata": {
        "colab": {
          "base_uri": "https://localhost:8080/"
        },
        "collapsed": true,
        "id": "u3NkfGVa1e-e",
        "outputId": "32ad3594-46b5-4b69-81e8-ee078cc7ae43"
      },
      "execution_count": null,
      "outputs": [
        {
          "output_type": "stream",
          "name": "stdout",
          "text": [
            "Requirement already satisfied: qiskit-aer in /usr/local/lib/python3.10/dist-packages (0.14.2)\n",
            "Requirement already satisfied: qiskit>=0.45.2 in /usr/local/lib/python3.10/dist-packages (from qiskit-aer) (1.1.1)\n",
            "Requirement already satisfied: numpy>=1.16.3 in /usr/local/lib/python3.10/dist-packages (from qiskit-aer) (1.25.2)\n",
            "Requirement already satisfied: scipy>=1.0 in /usr/local/lib/python3.10/dist-packages (from qiskit-aer) (1.11.4)\n",
            "Requirement already satisfied: psutil>=5 in /usr/local/lib/python3.10/dist-packages (from qiskit-aer) (5.9.5)\n",
            "Requirement already satisfied: rustworkx>=0.14.0 in /usr/local/lib/python3.10/dist-packages (from qiskit>=0.45.2->qiskit-aer) (0.15.1)\n",
            "Requirement already satisfied: sympy>=1.3 in /usr/local/lib/python3.10/dist-packages (from qiskit>=0.45.2->qiskit-aer) (1.12.1)\n",
            "Requirement already satisfied: dill>=0.3 in /usr/local/lib/python3.10/dist-packages (from qiskit>=0.45.2->qiskit-aer) (0.3.8)\n",
            "Requirement already satisfied: python-dateutil>=2.8.0 in /usr/local/lib/python3.10/dist-packages (from qiskit>=0.45.2->qiskit-aer) (2.8.2)\n",
            "Requirement already satisfied: stevedore>=3.0.0 in /usr/local/lib/python3.10/dist-packages (from qiskit>=0.45.2->qiskit-aer) (5.2.0)\n",
            "Requirement already satisfied: typing-extensions in /usr/local/lib/python3.10/dist-packages (from qiskit>=0.45.2->qiskit-aer) (4.12.2)\n",
            "Requirement already satisfied: symengine>=0.11 in /usr/local/lib/python3.10/dist-packages (from qiskit>=0.45.2->qiskit-aer) (0.11.0)\n",
            "Requirement already satisfied: six>=1.5 in /usr/local/lib/python3.10/dist-packages (from python-dateutil>=2.8.0->qiskit>=0.45.2->qiskit-aer) (1.16.0)\n",
            "Requirement already satisfied: pbr!=2.1.0,>=2.0.0 in /usr/local/lib/python3.10/dist-packages (from stevedore>=3.0.0->qiskit>=0.45.2->qiskit-aer) (6.0.0)\n",
            "Requirement already satisfied: mpmath<1.4.0,>=1.1.0 in /usr/local/lib/python3.10/dist-packages (from sympy>=1.3->qiskit>=0.45.2->qiskit-aer) (1.3.0)\n"
          ]
        }
      ]
    },
    {
      "cell_type": "code",
      "source": [
        "import torch\n",
        "import torch.nn as nn\n",
        "import DiscreteVariationalParameterizationsDeepV2 as DVP\n",
        "from torch.autograd.functional import vjp\n",
        "from torch.autograd.function import Function\n",
        "from QuantumSimulatorDataset import QuantumSimulationDatasetFast, generate_circuit_params\n",
        "from GibbsSampling import BatchedConditionalGibbsSampler, BatchedConditionalDoubleGibbsSampler\n",
        "\n",
        "class EmbeddingMI3(nn.Module):\n",
        "    def __init__(self, batch_size, in_dim, out_dim, num_ones):\n",
        "        super().__init__()\n",
        "        self.encoder = DVP.BoltzmannBasedEncoder(in_dim=in_dim, out_dim=out_dim)\n",
        "        self.decoder = DVP.EnergyBasedDecoder(in_dim=out_dim, out_dim=in_dim, num_ones=num_ones)\n",
        "        self.num_ones = num_ones\n",
        "        self.embedding_dynamics = DVP.EnergyBasedModelEmbeddingDynamics(dim=out_dim)\n",
        "        self.loss_func = MutualInformationLossV3.apply\n",
        "        self.embedding_sampler = BatchedConditionalGibbsSampler(batch_size=batch_size, num_samples=256, # needs to be tuned\n",
        "                                                                mixing_time=5, # seems like this can be low and still work\n",
        "                                                                joint_distribution=self.embedding_dynamics)\n",
        "        self.decoder_sampler = BatchedConditionalDoubleGibbsSampler(batch_size=batch_size, num_samples=256, # needs to be tuned\n",
        "                                                                mixing_time=24, # seems like this can be low and still work\n",
        "                                                                joint_distribution=self.decoder, dim=in_dim, num_ones=self.num_ones)\n",
        "\n",
        "    def test_objective_function(self, x, y):\n",
        "        w = self.encoder.encoder_sample(x).detach()\n",
        "        z = self.encoder.encoder_sample(y).detach()\n",
        "        w_tilde = self.embedding_sampler.run_batched_gibbs(z).detach()\n",
        "        x_tilde = self.decoder_sampler.run_batched_gibbs(w).detach()\n",
        "\n",
        "        return -self.loss_func(self.num_ones,\n",
        "                               *(z, y, w, x, w_tilde, x_tilde), *self.encoder.params(), *self.decoder.params(), *self.embedding_dynamics.params())\n",
        "\n",
        "class MutualInformationLossV3(Function):\n",
        "    @staticmethod\n",
        "    def forward(ctx, *inputs):\n",
        "        num_ones = inputs[0]\n",
        "        zywx_w_tilde_ins = inputs[1:7]\n",
        "        encoder_params = inputs[7:11]\n",
        "        decoder_params = inputs[11:19]\n",
        "        embedding_params = inputs[19:27]\n",
        "\n",
        "        z, y, w, x, _, _ = zywx_w_tilde_ins\n",
        "\n",
        "        p_x_w_estimate = DVP.EnergyBasedDecoder.estimated_conditional_log_probability_a_given_b(x, w, num_ones, *decoder_params)\n",
        "        p_w_x = DVP.BoltzmannBasedEncoder.conditional_log_probability_a_given_b_params(w, x, *encoder_params)\n",
        "        r_w_z_estimate = DVP.EnergyBasedModelEmbeddingDynamics.estimated_normalized_log_probabilities_w_given_z(z, w, *embedding_params)\n",
        "\n",
        "        out = p_x_w_estimate - p_w_x + r_w_z_estimate\n",
        "        ctx.num_ones = num_ones\n",
        "        ctx.save_for_backward(*zywx_w_tilde_ins, *encoder_params, *decoder_params, *embedding_params, r_w_z_estimate, out)\n",
        "        return out\n",
        "\n",
        "    @staticmethod\n",
        "    def backward(ctx, grad_output):\n",
        "        num_ones = ctx.num_ones\n",
        "        z, y, w, x, w_tilde, x_tilde = ctx.saved_tensors[0:6]\n",
        "        encoder_params = ctx.saved_tensors[6:10]\n",
        "        decoder_params = ctx.saved_tensors[10:18]\n",
        "        embedding_params = ctx.saved_tensors[18:26]\n",
        "        r_w_z = ctx.saved_tensors[26]\n",
        "        MI = ctx.saved_tensors[27]\n",
        "\n",
        "        decoder_unnormalized_probs = lambda x, w, *params: DVP.EnergyBasedDecoder.unnormalized_log_probs_a_given_b(num_ones, x, w, *params)\n",
        "        decoder_expected_unnormalized_probs = lambda x_tilde, w, *params: DVP.EnergyBasedDecoder.expected_unnormalized_log_probs_a_given_b(num_ones, x_tilde, w, *params)\n",
        "\n",
        "        _, decoder_grad_1 = vjp(decoder_unnormalized_probs, (x, w, *decoder_params), grad_output, create_graph=False)\n",
        "        _, decoder_grad_2 = vjp(decoder_expected_unnormalized_probs, (x_tilde, w.expand(x_tilde.shape[0], -1, -1), *decoder_params), grad_output, create_graph=False)\n",
        "\n",
        "        decoder_grad = tuple(map(lambda x, y: x - y, decoder_grad_1[2:], decoder_grad_2[2:]))\n",
        "\n",
        "        _, encoder_grad_term_1 = vjp(DVP.BoltzmannBasedEncoder.conditional_log_probability_a_given_b, (w, x, *encoder_params), grad_output * (MI - 1), create_graph=False)\n",
        "        encoder_grad_term_1 = encoder_grad_term_1[2:]\n",
        "\n",
        "        _, encoder_grad_term_2 = vjp(DVP.BoltzmannBasedEncoder.conditional_log_probability_a_given_b, (z, y, *encoder_params), grad_output * r_w_z, create_graph=False)\n",
        "        encoder_grad_term_2 = encoder_grad_term_2[2:]\n",
        "\n",
        "        encoder_grad = tuple(map(lambda x, y: x + y, encoder_grad_term_1, encoder_grad_term_2))\n",
        "\n",
        "        _, embedding_grad_1 = vjp(DVP.EnergyBasedModelEmbeddingDynamics.unnormalized_log_probs_w_given_z, (z, w, *embedding_params), grad_output, create_graph=False)\n",
        "        _, embedding_grad_2 = vjp(DVP.EnergyBasedModelEmbeddingDynamics.expected_unnormalized_log_probs_w_given_z, (z.expand(w_tilde.shape[0], -1, -1), w_tilde, *embedding_params), grad_output, create_graph=False)\n",
        "\n",
        "        embedding_grad = tuple(map(lambda x, y: x - y, embedding_grad_1[2:], embedding_grad_2[2:]))\n",
        "\n",
        "        return None, None, None, None, None, None, None, *encoder_grad, *decoder_grad, *embedding_grad\n",
        "\n",
        "def run_dim_red_process(device, state_space, embedding_space_size, batch_size=256, num_steps=20000):\n",
        "\n",
        "    model = EmbeddingMI3(batch_size, state_space, embedding_space_size, num_ones=4)\n",
        "\n",
        "    # Path to the state dictionary file\n",
        "    state_dict_path = 'quantum_experiments_2/initializer.model'\n",
        "\n",
        "    # Check if the state dictionary file exists\n",
        "    if os.path.exists(state_dict_path):\n",
        "        # Load the state dictionary\n",
        "        state_dict = torch.load(state_dict_path)\n",
        "        # Get the current state dictionary of the model\n",
        "        old_state_dict = model.state_dict()\n",
        "        # Modify the state dictionary to match the embedding_space_size\n",
        "        old_state_dict['encoder.b'] = state_dict['encoder.b'][:, :embedding_space_size]\n",
        "        old_state_dict['encoder.W'] = state_dict['encoder.W'][:, :embedding_space_size, :]\n",
        "\n",
        "        # Load the adjusted state dictionary into the model\n",
        "        model.load_state_dict(old_state_dict, strict=False)\n",
        "    else:\n",
        "        print(f\"State dictionary file '{state_dict_path}' does not exist. Continuing without loading pre-trained weights.\")\n",
        "\n",
        "    model = model.to(device)\n",
        "    optimizer = torch.optim.Adam(model.parameters(), lr=0.005)\n",
        "    params = generate_circuit_params(12,12)\n",
        "    dataset = QuantumSimulationDatasetFast(params, batch_size, 4, device, inverse_density=3)\n",
        "\n",
        "    for i, (final_state, initial_state) in enumerate(dataset):\n",
        "        optimizer.zero_grad()\n",
        "        loss = model.test_objective_function(initial_state, final_state).mean()\n",
        "        loss.backward()\n",
        "        print('Iteration', i, 'I(W,Z) > ', -loss.detach().cpu().item())\n",
        "        optimizer.step()\n",
        "        if i > num_steps:\n",
        "            print('Training Terminated')\n",
        "            break\n",
        "        if i % 1000 == 999:\n",
        "            torch.save(model.state_dict(), f'quantum_experiments_4/experiment_{state_space}_{embedding_space_size}_{i}.model')\n",
        "\n",
        "if __name__ == '__main__':\n",
        "    device = torch.device(\"cuda\" if torch.cuda.is_available() else \"cpu\")\n",
        "\n",
        "    experiments = [\n",
        "        (12, 2, 1024), (12, 3, 1024), (12, 4, 1024), (12, 5, 1024),\n",
        "        (12, 6, 1024), (12, 7, 1024), (12, 8, 1024), (12, 9, 1024),\n",
        "        (12, 10, 1024), (12, 11, 1024), (12, 12, 1024)\n",
        "    ]\n",
        "\n",
        "    for i, params in enumerate(experiments):\n",
        "        print('Running Experiment', i, params)\n",
        "        run_dim_red_process(device, *params)\n"
      ],
      "metadata": {
        "id": "u6Rq3bU6sHLw"
      },
      "execution_count": null,
      "outputs": []
    }
  ]
}